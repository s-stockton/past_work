{
  "nbformat": 4,
  "nbformat_minor": 0,
  "metadata": {
    "colab": {
      "name": "Stockton_Auto_Engagement.ipynb",
      "provenance": [],
      "collapsed_sections": [
        "8jb2fhPr5Xyy",
        "c8ZoM5qq5Yfn",
        "bLmkgrHZGA9U",
        "qzuv1d62GCKy",
        "nyeQ_7BTGDtV",
        "asDfshc7GEnb"
      ],
      "authorship_tag": "ABX9TyMmJQZvC98twZKt1aRrEWXx",
      "include_colab_link": true
    },
    "kernelspec": {
      "name": "python3",
      "display_name": "Python 3"
    }
  },
  "cells": [
    {
      "cell_type": "markdown",
      "metadata": {
        "id": "view-in-github",
        "colab_type": "text"
      },
      "source": [
        "<a href=\"https://colab.research.google.com/github/s-stockton/past_work/blob/master/Stockton_Auto_Engagement.ipynb\" target=\"_parent\"><img src=\"https://colab.research.google.com/assets/colab-badge.svg\" alt=\"Open In Colab\"/></a>"
      ]
    },
    {
      "cell_type": "markdown",
      "metadata": {
        "id": "8jb2fhPr5Xyy",
        "colab_type": "text"
      },
      "source": [
        "# Loading Data/Packages"
      ]
    },
    {
      "cell_type": "code",
      "metadata": {
        "id": "G7TjX55D6FJH",
        "colab_type": "code",
        "colab": {
          "base_uri": "https://localhost:8080/",
          "height": 54
        },
        "outputId": "d9ef7836-4aa6-4aba-99bc-a02ac9ec44f8"
      },
      "source": [
        "\"\"\"\n",
        "Created on Fri Jan 17\n",
        "@author: s-stockton\n",
        "\"\"\"\n",
        "\n",
        "import pickle\n",
        "import json\n",
        "\n",
        "from google.colab import drive\n",
        "drive.mount('/content/drive')"
      ],
      "execution_count": null,
      "outputs": [
        {
          "output_type": "stream",
          "text": [
            "Drive already mounted at /content/drive; to attempt to forcibly remount, call drive.mount(\"/content/drive\", force_remount=True).\n"
          ],
          "name": "stdout"
        }
      ]
    },
    {
      "cell_type": "code",
      "metadata": {
        "id": "iTzOvePd5OMp",
        "colab_type": "code",
        "colab": {
          "base_uri": "https://localhost:8080/",
          "height": 158
        },
        "outputId": "ed094089-db9c-4305-c467-b82c157cf997"
      },
      "source": [
        "!pip install instagram-scraper "
      ],
      "execution_count": null,
      "outputs": [
        {
          "output_type": "stream",
          "text": [
            "Requirement already satisfied: instagram-scraper in /usr/local/lib/python3.6/dist-packages (1.8.1)\n",
            "Requirement already satisfied: tqdm>=3.8.0 in /usr/local/lib/python3.6/dist-packages (from instagram-scraper) (4.28.1)\n",
            "Requirement already satisfied: requests>=2.18.4 in /usr/local/lib/python3.6/dist-packages (from instagram-scraper) (2.21.0)\n",
            "Requirement already satisfied: idna<2.9,>=2.5 in /usr/local/lib/python3.6/dist-packages (from requests>=2.18.4->instagram-scraper) (2.8)\n",
            "Requirement already satisfied: chardet<3.1.0,>=3.0.2 in /usr/local/lib/python3.6/dist-packages (from requests>=2.18.4->instagram-scraper) (3.0.4)\n",
            "Requirement already satisfied: urllib3<1.25,>=1.21.1 in /usr/local/lib/python3.6/dist-packages (from requests>=2.18.4->instagram-scraper) (1.24.3)\n",
            "Requirement already satisfied: certifi>=2017.4.17 in /usr/local/lib/python3.6/dist-packages (from requests>=2.18.4->instagram-scraper) (2019.11.28)\n"
          ],
          "name": "stdout"
        }
      ]
    },
    {
      "cell_type": "code",
      "metadata": {
        "id": "w-zQgS455aRD",
        "colab_type": "code",
        "colab": {
          "base_uri": "https://localhost:8080/"
        },
        "outputId": "cf7db6bd-dce2-4b28-e259-e992aca6c1ba"
      },
      "source": [
        "!instagram-scraper ford, honda, volvocars, dodgeofficial, chevrolet --media-metadata -m 200 -d 'drive/My Drive/Colab Notebooks/DigAd/instagram/'"
      ],
      "execution_count": null,
      "outputs": [
        {
          "output_type": "stream",
          "text": [
            "Searching ford for profile pic: 100% 1/1 [00:00<00:00, 841.22 images/s]\n",
            "Searching ford for posts: 151 media [00:20,  2.47s/ media]\n",
            "Downloading:   0%|          | 0/201 [00:00<?, ?it/s]\u001b[A\n",
            "Downloading: 100%|##########| 201/201 [00:00<00:00, 14949.11it/s]\u001b[A\n",
            "Searching honda for profile pic:   0% 0/1 [00:00<?, ? images/s]\u001b[A\n",
            "Searching honda for profile pic: 100% 1/1 [00:00<00:00, 1064.54 images/s]\u001b[A\n",
            "Searching honda for posts: 0 media [00:00, ? media/s]\u001b[A\n",
            "Searching honda for posts: 1 media [00:12, 12.30s/ media]\u001b[A\n",
            "Searching honda for posts: 51 media [00:23,  8.68s/ media]\u001b[A\n",
            "Searching honda for posts: 101 media [00:33,  6.14s/ media]\u001b[A\n",
            "Searching honda for posts: 151 media [00:44,  4.36s/ media]\u001b[A\n",
            "\n",
            "Downloading:   0%|          | 0/201 [00:00<?, ?it/s]\u001b[A\u001b[A\n",
            "\n",
            "Downloading: 100%|##########| 201/201 [00:00<00:00, 5666.72it/s]\u001b[A\u001b[A\n",
            "\n",
            "Searching volvocars for profile pic:   0% 0/1 [00:00<?, ? images/s]\u001b[A\u001b[A\n",
            "\n",
            "Searching volvocars for profile pic: 100% 1/1 [00:00<00:00, 1825.99 images/s]\u001b[A\u001b[A\n",
            "\n",
            "Searching volvocars for posts: 0 media [00:00, ? media/s]\u001b[A\u001b[A\n",
            "\n",
            "Searching volvocars for posts: 1 media [00:14, 14.88s/ media]\u001b[A\u001b[A\n",
            "\n",
            "Searching volvocars for posts: 51 media [00:28, 10.50s/ media]\u001b[A\u001b[A\n",
            "\n",
            "Searching volvocars for posts: 101 media [00:39,  7.42s/ media]\u001b[A\u001b[A\n",
            "\n",
            "Searching volvocars for posts: 151 media [00:51,  5.26s/ media]\u001b[A\u001b[A\n",
            "\n",
            "\n",
            "Downloading:   0%|          | 0/201 [00:00<?, ?it/s]\u001b[A\u001b[A\u001b[A\n",
            "\n",
            "\n",
            "Downloading: 100%|##########| 201/201 [00:00<00:00, 6260.90it/s]\u001b[A\u001b[A\u001b[A\n",
            "\n",
            "\n",
            "Searching dodgeofficial for profile pic:   0% 0/1 [00:00<?, ? images/s]\u001b[A\u001b[A\u001b[A\n",
            "\n",
            "\n",
            "Searching dodgeofficial for profile pic: 100% 1/1 [00:00<00:00, 4100.00 images/s]\u001b[A\u001b[A\u001b[A\n",
            "\n",
            "\n",
            "Searching dodgeofficial for posts: 0 media [00:00, ? media/s]\u001b[A\u001b[A\u001b[A\n",
            "\n",
            "\n",
            "Searching dodgeofficial for posts: 1 media [00:06,  6.29s/ media]\u001b[A\u001b[A\u001b[A\n",
            "\n",
            "\n",
            "Searching dodgeofficial for posts: 51 media [00:12,  4.44s/ media]\u001b[A\u001b[A\u001b[A\n",
            "\n",
            "\n",
            "Searching dodgeofficial for posts: 101 media [00:19,  3.15s/ media]\u001b[A\u001b[A\u001b[A\n",
            "\n",
            "\n",
            "Searching dodgeofficial for posts: 151 media [00:24,  2.24s/ media]\u001b[A\u001b[A\u001b[A\n",
            "\n",
            "\n",
            "\n",
            "Downloading:   0%|          | 0/201 [00:00<?, ?it/s]\u001b[A\u001b[A\u001b[A\u001b[A\n",
            "\n",
            "\n",
            "\n",
            "Downloading: 100%|##########| 201/201 [00:00<00:00, 7070.36it/s]\u001b[A\u001b[A\u001b[A\u001b[A\n",
            "\n",
            "\n",
            "\n",
            "Searching chevrolet for profile pic:   0% 0/1 [00:00<?, ? images/s]\u001b[A\u001b[A\u001b[A\u001b[A\n",
            "\n",
            "\n",
            "\n",
            "Searching chevrolet for profile pic: 100% 1/1 [00:00<00:00, 2528.21 images/s]\u001b[A\u001b[A\u001b[A\u001b[A\n",
            "\n",
            "\n",
            "\n",
            "Searching chevrolet for posts: 0 media [00:00, ? media/s]\u001b[A\u001b[A\u001b[A\u001b[A\n",
            "\n",
            "\n",
            "\n",
            "Searching chevrolet for posts: 1 media [00:04,  4.21s/ media]\u001b[A\u001b[A\u001b[A\u001b[A\n",
            "\n",
            "\n",
            "\n",
            "Searching chevrolet for posts: 51 media [00:10,  2.98s/ media]\u001b[A\u001b[A\u001b[A\u001b[A\n",
            "\n",
            "\n",
            "\n",
            "Searching chevrolet for posts: 101 media [00:16,  2.12s/ media]\u001b[A\u001b[A\u001b[A\u001b[A\n",
            "\n",
            "\n",
            "\n",
            "Searching chevrolet for posts: 151 media [00:19,  1.51s/ media]\u001b[A\u001b[A\u001b[A\u001b[A\n",
            "\n",
            "\n",
            "\n",
            "\n",
            "Downloading:   0%|          | 0/201 [00:00<?, ?it/s]\u001b[A\u001b[A\u001b[A\u001b[A\u001b[A\n",
            "\n",
            "\n",
            "\n",
            "\n",
            "Downloading: 100%|##########| 201/201 [00:00<00:00, 18153.64it/s]\u001b[A\u001b[A\u001b[A\u001b[A\u001b[A\n",
            "\u001b[A\n",
            "\n",
            "\u001b[A\u001b[A\n",
            "\n",
            "\u001b[A\u001b[A\n",
            "Exception ignored in: <bound method tqdm.__del__ of Searching volvocars for posts: 151 media [01:37,  5.26s/ media]>\n",
            "Traceback (most recent call last):\n",
            "  File \"/usr/local/lib/python3.6/dist-packages/tqdm/_tqdm.py\", line 931, in __del__\n",
            "    self.close()\n",
            "  File \"/usr/local/lib/python3.6/dist-packages/tqdm/_tqdm.py\", line 1133, in close\n",
            "    self._decr_instances(self)\n",
            "  File \"/usr/local/lib/python3.6/dist-packages/tqdm/_tqdm.py\", line 496, in _decr_instances\n",
            "    cls.monitor.exit()\n",
            "  File \"/usr/local/lib/python3.6/dist-packages/tqdm/_monitor.py\", line 52, in exit\n",
            "    self.join()\n",
            "  File \"/usr/lib/python3.6/threading.py\", line 1053, in join\n",
            "    raise RuntimeError(\"cannot join current thread\")\n",
            "RuntimeError: cannot join current thread\n"
          ],
          "name": "stdout"
        }
      ]
    },
    {
      "cell_type": "code",
      "metadata": {
        "id": "4awv7MyK5aSy",
        "colab_type": "code",
        "colab": {}
      },
      "source": [
        "# \"username\" == honda\n",
        "# \"edge_media_preview_like\"\"count\" = likes\n",
        "# \"edge_media_to_comment\"\"count\" = comments"
      ],
      "execution_count": null,
      "outputs": []
    },
    {
      "cell_type": "code",
      "metadata": {
        "id": "18IyPmi_5aWI",
        "colab_type": "code",
        "colab": {}
      },
      "source": [
        "import json\n",
        "import requests"
      ],
      "execution_count": null,
      "outputs": []
    },
    {
      "cell_type": "markdown",
      "metadata": {
        "id": "c8ZoM5qq5Yfn",
        "colab_type": "text"
      },
      "source": [
        "#Honda Analysis"
      ]
    },
    {
      "cell_type": "code",
      "metadata": {
        "id": "k7NRs2za5aUn",
        "colab_type": "code",
        "colab": {}
      },
      "source": [
        "hondapath = 'drive/My Drive/Colab Notebooks/DigAd/instagram/honda.json'\n",
        "loaded = open(hondapath, 'r')\n",
        "\n",
        "with open(hondapath) as f:\n",
        "    honda = json.loads(f.read())"
      ],
      "execution_count": null,
      "outputs": []
    },
    {
      "cell_type": "code",
      "metadata": {
        "id": "nG__gNozEWYg",
        "colab_type": "code",
        "colab": {
          "base_uri": "https://localhost:8080/"
        },
        "outputId": "35a01edb-fe82-4623-997b-ee57b2ae6ae5"
      },
      "source": [
        "print(len(honda['GraphImages']))\n",
        "print(type(honda['GraphImages']))"
      ],
      "execution_count": null,
      "outputs": [
        {
          "output_type": "stream",
          "text": [
            "200\n",
            "<class 'list'>\n"
          ],
          "name": "stdout"
        }
      ]
    },
    {
      "cell_type": "code",
      "metadata": {
        "id": "Vdp26YdatUdr",
        "colab_type": "code",
        "colab": {}
      },
      "source": [
        "# we have the json as a python object\n",
        "h_likes = []\n",
        "\n",
        "for i in honda['GraphImages']:\n",
        "  h_likes.append(i['edge_media_preview_like']['count'])"
      ],
      "execution_count": null,
      "outputs": []
    },
    {
      "cell_type": "code",
      "metadata": {
        "id": "rXfN3zy8vFLX",
        "colab_type": "code",
        "colab": {}
      },
      "source": [
        "h_comments = []\n",
        "\n",
        "for i in honda['GraphImages']:\n",
        "  h_comments.append(i['edge_media_to_comment']['count'])"
      ],
      "execution_count": null,
      "outputs": []
    },
    {
      "cell_type": "code",
      "metadata": {
        "id": "eeGxTcSfEOn4",
        "colab_type": "code",
        "colab": {}
      },
      "source": [
        "h_numerator = [h_likes[i] + h_comments[i] for i in range(len(h_likes))]"
      ],
      "execution_count": null,
      "outputs": []
    },
    {
      "cell_type": "code",
      "metadata": {
        "id": "053Gf9wtEz5d",
        "colab_type": "code",
        "colab": {}
      },
      "source": [
        "avg_honda_engagement_rate = []\n",
        "\n",
        "for i in h_numerator:\n",
        "  avg_honda_engagement_rate.append(i/4100000)"
      ],
      "execution_count": null,
      "outputs": []
    },
    {
      "cell_type": "code",
      "metadata": {
        "id": "WKbnPpiFFVlZ",
        "colab_type": "code",
        "colab": {
          "base_uri": "https://localhost:8080/"
        },
        "outputId": "9cb2f589-2dde-4cfd-b40b-0429dcd7cf97"
      },
      "source": [
        "avg_honda_engagement_rate[:5]"
      ],
      "execution_count": null,
      "outputs": [
        {
          "output_type": "execute_result",
          "data": {
            "text/plain": [
              "[0.003007317073170732,\n",
              " 0.001028048780487805,\n",
              " 0.003648536585365854,\n",
              " 0.0012568292682926829,\n",
              " 0.0031690243902439026]"
            ]
          },
          "metadata": {
            "tags": []
          },
          "execution_count": 13
        }
      ]
    },
    {
      "cell_type": "code",
      "metadata": {
        "id": "341r781pFlK5",
        "colab_type": "code",
        "colab": {
          "base_uri": "https://localhost:8080/"
        },
        "outputId": "190d6130-96e7-4995-c814-7ae55ca70ff6"
      },
      "source": [
        "honda_engage = (sum(avg_honda_engagement_rate)/len(avg_honda_engagement_rate))*100\n",
        "print(honda_engage)"
      ],
      "execution_count": null,
      "outputs": [
        {
          "output_type": "stream",
          "text": [
            "0.4240976829268291\n"
          ],
          "name": "stdout"
        }
      ]
    },
    {
      "cell_type": "markdown",
      "metadata": {
        "id": "bLmkgrHZGA9U",
        "colab_type": "text"
      },
      "source": [
        "# Dodge Analysis"
      ]
    },
    {
      "cell_type": "code",
      "metadata": {
        "id": "7tHWAcLH5bAQ",
        "colab_type": "code",
        "colab": {}
      },
      "source": [
        "dodgepath = 'drive/My Drive/Colab Notebooks/DigAd/instagram/dodgeofficial.json'\n",
        "loaded = open(dodgepath, 'r')\n",
        "\n",
        "with open(dodgepath) as f:\n",
        "    dodge = json.loads(f.read())"
      ],
      "execution_count": null,
      "outputs": []
    },
    {
      "cell_type": "code",
      "metadata": {
        "colab_type": "code",
        "id": "Nj3sGA3CHKvA",
        "colab": {}
      },
      "source": [
        "d_likes = []\n",
        "\n",
        "for i in dodge['GraphImages']:\n",
        "  d_likes.append(i['edge_media_preview_like']['count'])"
      ],
      "execution_count": null,
      "outputs": []
    },
    {
      "cell_type": "code",
      "metadata": {
        "colab_type": "code",
        "id": "4By1C0I0HKvb",
        "colab": {}
      },
      "source": [
        "d_comments = []\n",
        "\n",
        "for i in dodge['GraphImages']:\n",
        "  d_comments.append(i['edge_media_to_comment']['count'])"
      ],
      "execution_count": null,
      "outputs": []
    },
    {
      "cell_type": "code",
      "metadata": {
        "colab_type": "code",
        "id": "HVg90nEsHKvf",
        "colab": {}
      },
      "source": [
        "d_numerator = [d_likes[i] + d_comments[i] for i in range(len(d_likes))]"
      ],
      "execution_count": null,
      "outputs": []
    },
    {
      "cell_type": "code",
      "metadata": {
        "colab_type": "code",
        "id": "KBg_CrKIHKvi",
        "colab": {}
      },
      "source": [
        "avg_dodge_engagement_rate = []\n",
        "\n",
        "for i in d_numerator:\n",
        "  avg_dodge_engagement_rate.append(i/5300000)"
      ],
      "execution_count": null,
      "outputs": []
    },
    {
      "cell_type": "code",
      "metadata": {
        "colab_type": "code",
        "id": "ZT4-ibf3HKvk",
        "colab": {
          "base_uri": "https://localhost:8080/"
        },
        "outputId": "dcc9927b-4ab8-4ca2-c7a9-059112d40267"
      },
      "source": [
        "avg_dodge_engagement_rate[:5]"
      ],
      "execution_count": null,
      "outputs": [
        {
          "output_type": "execute_result",
          "data": {
            "text/plain": [
              "[0.028200754716981132,\n",
              " 0.02482433962264151,\n",
              " 0.013487735849056603,\n",
              " 0.022435849056603775,\n",
              " 0.021900377358490566]"
            ]
          },
          "metadata": {
            "tags": []
          },
          "execution_count": 20
        }
      ]
    },
    {
      "cell_type": "code",
      "metadata": {
        "colab_type": "code",
        "id": "KpZWQ99qHKvn",
        "colab": {}
      },
      "source": [
        "dodge_engage = (sum(avg_dodge_engagement_rate)/len(avg_dodge_engagement_rate))*100"
      ],
      "execution_count": null,
      "outputs": []
    },
    {
      "cell_type": "markdown",
      "metadata": {
        "id": "qzuv1d62GCKy",
        "colab_type": "text"
      },
      "source": [
        "# Ford Analysis"
      ]
    },
    {
      "cell_type": "code",
      "metadata": {
        "id": "CZU1QrusCnMa",
        "colab_type": "code",
        "colab": {}
      },
      "source": [
        "fordpath = 'drive/My Drive/Colab Notebooks/DigAd/instagram/ford.json'\n",
        "loaded = open(fordpath, 'r')\n",
        "\n",
        "with open(fordpath) as f:\n",
        "    ford = json.loads(f.read())"
      ],
      "execution_count": null,
      "outputs": []
    },
    {
      "cell_type": "code",
      "metadata": {
        "colab_type": "code",
        "id": "ti5QEoNcHNCK",
        "colab": {}
      },
      "source": [
        "# we have the json as a python object\n",
        "f_likes = []\n",
        "\n",
        "for i in ford['GraphImages']:\n",
        "  f_likes.append(i['edge_media_preview_like']['count'])"
      ],
      "execution_count": null,
      "outputs": []
    },
    {
      "cell_type": "code",
      "metadata": {
        "colab_type": "code",
        "id": "_2PODa2YHNCV",
        "colab": {}
      },
      "source": [
        "f_comments = []\n",
        "\n",
        "for i in ford['GraphImages']:\n",
        "  f_comments.append(i['edge_media_to_comment']['count'])"
      ],
      "execution_count": null,
      "outputs": []
    },
    {
      "cell_type": "code",
      "metadata": {
        "colab_type": "code",
        "id": "TJCbSVkKHNCd",
        "colab": {}
      },
      "source": [
        "f_numerator = [f_likes[i] + f_comments[i] for i in range(len(f_likes))]"
      ],
      "execution_count": null,
      "outputs": []
    },
    {
      "cell_type": "code",
      "metadata": {
        "colab_type": "code",
        "id": "tu849u0wHNCi",
        "colab": {}
      },
      "source": [
        "avg_ford_engagement_rate = []\n",
        "\n",
        "for i in f_numerator:\n",
        "  avg_ford_engagement_rate.append(i/3900000)"
      ],
      "execution_count": null,
      "outputs": []
    },
    {
      "cell_type": "code",
      "metadata": {
        "colab_type": "code",
        "id": "aaIxtVj2HNCm",
        "colab": {
          "base_uri": "https://localhost:8080/"
        },
        "outputId": "4924af2b-f975-4054-e8b6-93e423821309"
      },
      "source": [
        "avg_ford_engagement_rate[:5]"
      ],
      "execution_count": null,
      "outputs": [
        {
          "output_type": "execute_result",
          "data": {
            "text/plain": [
              "[0.010812307692307692,\n",
              " 0.02588794871794872,\n",
              " 0.03830974358974359,\n",
              " 0.010337948717948717,\n",
              " 0.011023589743589744]"
            ]
          },
          "metadata": {
            "tags": []
          },
          "execution_count": 27
        }
      ]
    },
    {
      "cell_type": "code",
      "metadata": {
        "colab_type": "code",
        "id": "Zuroc36cHNCq",
        "colab": {
          "base_uri": "https://localhost:8080/"
        },
        "outputId": "fce079b0-75ab-448d-c5ce-9117c2423be8"
      },
      "source": [
        "ford_engage = (sum(avg_ford_engagement_rate)/len(avg_ford_engagement_rate))*100\n",
        "print(ford_engage)"
      ],
      "execution_count": null,
      "outputs": [
        {
          "output_type": "stream",
          "text": [
            "1.354834743589744\n"
          ],
          "name": "stdout"
        }
      ]
    },
    {
      "cell_type": "markdown",
      "metadata": {
        "id": "nyeQ_7BTGDtV",
        "colab_type": "text"
      },
      "source": [
        "# Chevrolet Analysis"
      ]
    },
    {
      "cell_type": "code",
      "metadata": {
        "id": "I4SZfJmBCnOa",
        "colab_type": "code",
        "colab": {}
      },
      "source": [
        "chevroletpath = 'drive/My Drive/Colab Notebooks/DigAd/instagram/chevrolet.json'\n",
        "loaded = open(chevroletpath, 'r')\n",
        "\n",
        "with open(chevroletpath) as f:\n",
        "    chevrolet = json.loads(f.read())"
      ],
      "execution_count": null,
      "outputs": []
    },
    {
      "cell_type": "code",
      "metadata": {
        "colab_type": "code",
        "id": "xHiCr3ArHNuA",
        "colab": {}
      },
      "source": [
        "# we have the json as a python object\n",
        "c_likes = []\n",
        "\n",
        "for i in chevrolet['GraphImages']:\n",
        "  c_likes.append(i['edge_media_preview_like']['count'])"
      ],
      "execution_count": null,
      "outputs": []
    },
    {
      "cell_type": "code",
      "metadata": {
        "colab_type": "code",
        "id": "nM4nYUHTHNuL",
        "colab": {}
      },
      "source": [
        "c_comments = []\n",
        "\n",
        "for i in chevrolet['GraphImages']:\n",
        "  c_comments.append(i['edge_media_to_comment']['count'])"
      ],
      "execution_count": null,
      "outputs": []
    },
    {
      "cell_type": "code",
      "metadata": {
        "colab_type": "code",
        "id": "0zxfDkfzHNuT",
        "colab": {}
      },
      "source": [
        "c_numerator = [c_likes[i] + c_comments[i] for i in range(len(c_likes))]"
      ],
      "execution_count": null,
      "outputs": []
    },
    {
      "cell_type": "code",
      "metadata": {
        "colab_type": "code",
        "id": "VMo8g0CBHNub",
        "colab": {}
      },
      "source": [
        "avg_chevrolet_engagement_rate = []\n",
        "\n",
        "for i in c_numerator:\n",
        "  avg_chevrolet_engagement_rate.append(i/3000000)"
      ],
      "execution_count": null,
      "outputs": []
    },
    {
      "cell_type": "code",
      "metadata": {
        "colab_type": "code",
        "id": "RCOGofjwHNug",
        "colab": {
          "base_uri": "https://localhost:8080/"
        },
        "outputId": "feed1f00-7fd9-402f-b199-f10b870fbfb0"
      },
      "source": [
        "avg_chevrolet_engagement_rate[:5]"
      ],
      "execution_count": null,
      "outputs": [
        {
          "output_type": "execute_result",
          "data": {
            "text/plain": [
              "[0.008700666666666667,\n",
              " 0.018001333333333334,\n",
              " 0.013673666666666667,\n",
              " 0.018331,\n",
              " 0.005305]"
            ]
          },
          "metadata": {
            "tags": []
          },
          "execution_count": 34
        }
      ]
    },
    {
      "cell_type": "code",
      "metadata": {
        "colab_type": "code",
        "id": "VuIIfF9mHNuk",
        "colab": {
          "base_uri": "https://localhost:8080/"
        },
        "outputId": "9579e645-ea6c-4013-a8ce-2baaf2033857"
      },
      "source": [
        "chevrolet_engage = (sum(avg_chevrolet_engagement_rate)/len(avg_chevrolet_engagement_rate))*100\n",
        "print(chevrolet_engage)"
      ],
      "execution_count": null,
      "outputs": [
        {
          "output_type": "stream",
          "text": [
            "1.0769724999999999\n"
          ],
          "name": "stdout"
        }
      ]
    },
    {
      "cell_type": "markdown",
      "metadata": {
        "id": "asDfshc7GEnb",
        "colab_type": "text"
      },
      "source": [
        "# Volvo Analysis"
      ]
    },
    {
      "cell_type": "code",
      "metadata": {
        "id": "YOKNES4ACnQQ",
        "colab_type": "code",
        "colab": {}
      },
      "source": [
        "volvopath = 'drive/My Drive/Colab Notebooks/DigAd/instagram/volvocars.json'\n",
        "loaded = open(volvopath, 'r')\n",
        "\n",
        "with open(volvopath) as f:\n",
        "    volvo = json.loads(f.read())"
      ],
      "execution_count": null,
      "outputs": []
    },
    {
      "cell_type": "code",
      "metadata": {
        "colab_type": "code",
        "id": "LcaN611uHOP7",
        "colab": {}
      },
      "source": [
        "# we have the json as a python object\n",
        "v_likes = []\n",
        "\n",
        "for i in volvo['GraphImages']:\n",
        "  v_likes.append(i['edge_media_preview_like']['count'])"
      ],
      "execution_count": null,
      "outputs": []
    },
    {
      "cell_type": "code",
      "metadata": {
        "colab_type": "code",
        "id": "h2SDDYuQHOQJ",
        "colab": {}
      },
      "source": [
        "v_comments = []\n",
        "\n",
        "for i in volvo['GraphImages']:\n",
        "  v_comments.append(i['edge_media_to_comment']['count'])"
      ],
      "execution_count": null,
      "outputs": []
    },
    {
      "cell_type": "code",
      "metadata": {
        "colab_type": "code",
        "id": "LItdOdDDHOQP",
        "colab": {}
      },
      "source": [
        "v_numerator = [v_likes[i] + v_comments[i] for i in range(len(v_likes))]"
      ],
      "execution_count": null,
      "outputs": []
    },
    {
      "cell_type": "code",
      "metadata": {
        "colab_type": "code",
        "id": "I1xXZdgoHOQT",
        "colab": {}
      },
      "source": [
        "avg_volvo_engagement_rate = []\n",
        "\n",
        "for i in v_numerator:\n",
        "  avg_volvo_engagement_rate.append(i/1400000)"
      ],
      "execution_count": null,
      "outputs": []
    },
    {
      "cell_type": "code",
      "metadata": {
        "colab_type": "code",
        "id": "dcBk5WHxHOQX",
        "colab": {
          "base_uri": "https://localhost:8080/"
        },
        "outputId": "36c6a5dc-fd0d-4e2b-9cbf-74291e4ae6d8"
      },
      "source": [
        "avg_volvo_engagement_rate[:5]"
      ],
      "execution_count": null,
      "outputs": [
        {
          "output_type": "execute_result",
          "data": {
            "text/plain": [
              "[0.01124357142857143,\n",
              " 0.002850714285714286,\n",
              " 0.02132785714285714,\n",
              " 0.009837857142857143,\n",
              " 0.01532]"
            ]
          },
          "metadata": {
            "tags": []
          },
          "execution_count": 41
        }
      ]
    },
    {
      "cell_type": "code",
      "metadata": {
        "colab_type": "code",
        "id": "D1gw2wwXHOQa",
        "colab": {
          "base_uri": "https://localhost:8080/"
        },
        "outputId": "dbd5f420-1ce7-40fd-b248-13b213edaa72"
      },
      "source": [
        "volvo_engage = (sum(avg_volvo_engagement_rate)/len(avg_volvo_engagement_rate))*100\n",
        "print(volvo_engage)"
      ],
      "execution_count": null,
      "outputs": [
        {
          "output_type": "stream",
          "text": [
            "1.3812196428571437\n"
          ],
          "name": "stdout"
        }
      ]
    },
    {
      "cell_type": "markdown",
      "metadata": {
        "id": "TXjjOiYQ5ZCR",
        "colab_type": "text"
      },
      "source": [
        "# Engagement Takeaways "
      ]
    },
    {
      "cell_type": "code",
      "metadata": {
        "id": "adQPWLwa5bi2",
        "colab_type": "code",
        "colab": {
          "base_uri": "https://localhost:8080/",
          "height": 103
        },
        "outputId": "482e2204-67c1-4356-a34d-280434d69d95"
      },
      "source": [
        "#honda\n",
        "print(honda_engage)\n",
        "#ford\n",
        "print(ford_engage)\n",
        "#dodge\n",
        "print(dodge_engage)\n",
        "#chevrolet\n",
        "print(chevrolet_engage)\n",
        "#volvo\n",
        "print(volvo_engage)"
      ],
      "execution_count": null,
      "outputs": [
        {
          "output_type": "stream",
          "text": [
            "0.4240976829268291\n",
            "1.354834743589744\n",
            "2.1126214150943396\n",
            "1.0769724999999999\n",
            "1.3812196428571437\n"
          ],
          "name": "stdout"
        }
      ]
    },
    {
      "cell_type": "code",
      "metadata": {
        "id": "Rk8SAJMfLa9i",
        "colab_type": "code",
        "colab": {}
      },
      "source": [
        "# @honda: 0.42%\n",
        "# @ford: 1.35%\n",
        "# @dodge: 2.11%\n",
        "# @chevrolet: 1.08%\n",
        "# @volvo: 1.38%\n"
      ],
      "execution_count": null,
      "outputs": []
    },
    {
      "cell_type": "code",
      "metadata": {
        "id": "eb35pmam5bkt",
        "colab_type": "code",
        "colab": {}
      },
      "source": [
        "# Dodge has the highest average post engagement rate\n",
        "\n",
        "# Honda's engagement rate is the lowest of it's competitors at 0.42%"
      ],
      "execution_count": null,
      "outputs": []
    }
  ]
}